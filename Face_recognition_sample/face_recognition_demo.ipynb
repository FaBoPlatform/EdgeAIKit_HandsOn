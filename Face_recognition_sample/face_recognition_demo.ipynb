{
 "cells": [
  {
   "cell_type": "markdown",
   "id": "a91f1ae1",
   "metadata": {},
   "source": [
    "# ビデオポートの認識確認"
   ]
  },
  {
   "cell_type": "code",
   "execution_count": null,
   "id": "c3325776",
   "metadata": {},
   "outputs": [],
   "source": [
    "!ls -ltrh /dev/video*"
   ]
  },
  {
   "cell_type": "markdown",
   "id": "4befa690",
   "metadata": {},
   "source": [
    "# USBカメラに接続"
   ]
  },
  {
   "cell_type": "code",
   "execution_count": null,
   "id": "8e6ed8a2",
   "metadata": {},
   "outputs": [],
   "source": [
    "from jetcam.usb_camera import USBCamera\n",
    "\n",
    "#TODO change capture_device if incorrect for your system\n",
    "camera = USBCamera(width=320, height=240, capture_width=640, capture_height=480, capture_device=0)"
   ]
  },
  {
   "cell_type": "code",
   "execution_count": null,
   "id": "cede118a",
   "metadata": {},
   "outputs": [],
   "source": [
    "image = camera.read()"
   ]
  },
  {
   "cell_type": "markdown",
   "id": "e460bef4",
   "metadata": {},
   "source": [
    "# USBカメラの画像を表示"
   ]
  },
  {
   "cell_type": "code",
   "execution_count": null,
   "id": "4c977c46",
   "metadata": {},
   "outputs": [],
   "source": [
    "import ipywidgets\n",
    "from IPython.display import display\n",
    "from jetcam.utils import bgr8_to_jpeg\n",
    "\n",
    "image_widget = ipywidgets.Image(format='jpeg')\n",
    "\n",
    "image_widget.value = bgr8_to_jpeg(image)\n",
    "\n",
    "display(image_widget)"
   ]
  },
  {
   "cell_type": "markdown",
   "id": "a4c57fda",
   "metadata": {},
   "source": [
    "# カメラ画像の更新処理"
   ]
  },
  {
   "cell_type": "code",
   "execution_count": null,
   "id": "95fa95bc",
   "metadata": {},
   "outputs": [],
   "source": [
    "camera.running = True\n",
    "\n",
    "def update_image(change):\n",
    "    global image\n",
    "    image = change['new']\n",
    "    image_widget.value = bgr8_to_jpeg(image)\n",
    "    \n",
    "camera.observe(update_image, names='value')"
   ]
  },
  {
   "cell_type": "markdown",
   "id": "90983bb3",
   "metadata": {},
   "source": [
    "# 顔認識用の画像登録処理"
   ]
  },
  {
   "cell_type": "code",
   "execution_count": null,
   "id": "580257c8",
   "metadata": {},
   "outputs": [],
   "source": [
    "import face_recognition\n",
    "\n",
    "def register_face():\n",
    "    global image, my_face_encoding\n",
    "    \n",
    "    # カメラ画像を取得しmyfacde.jpgという名前で保存\n",
    "    face_image = Image.frombytes('RGB', (320,240), image)\n",
    "    face_image.save(\"myface.jpg\")\n",
    "    register_face_widget.value = bgr8_to_jpeg(image)\n",
    "    \n",
    "    # 保存した写真を次の顔認識処理に備えて読み込み　\n",
    "    picture_of_me = face_recognition.load_image_file(\"myface.jpg\")\n",
    "    my_face_encoding = face_recognition.face_encodings(picture_of_me)[0]"
   ]
  },
  {
   "cell_type": "markdown",
   "id": "bab6801b",
   "metadata": {},
   "source": [
    "# 顔認識用の画像登録ボタンの作成"
   ]
  },
  {
   "cell_type": "code",
   "execution_count": null,
   "id": "f5aaa170",
   "metadata": {},
   "outputs": [],
   "source": [
    "from PIL import Image\n",
    "\n",
    "register_button = ipywidgets.Button(description='Register face')\n",
    "register_button.on_click(lambda c: register_face())\n",
    "\n",
    "with open(\"ready_img.jpg\", \"rb\") as file:\n",
    "    default_image = file.read()\n",
    "register_face_widget = ipywidgets.Image(value=default_image, width=camera.width, height=camera.height)"
   ]
  },
  {
   "cell_type": "markdown",
   "id": "0a1c9590",
   "metadata": {},
   "source": [
    "# 顔認証処理"
   ]
  },
  {
   "cell_type": "code",
   "execution_count": null,
   "id": "51cd8862",
   "metadata": {},
   "outputs": [],
   "source": [
    "def recognition_face():\n",
    "    global image, my_face_encoding\n",
    "    \n",
    "    # カメラ画像の取り込み\n",
    "    unknown_face_encoding = face_recognition.face_encodings(image)[0]\n",
    "\n",
    "    # 登録画像とカメラ画像で比較し結果を取得\n",
    "    results = face_recognition.compare_faces([my_face_encoding], unknown_face_encoding)\n",
    "\n",
    "    # 結果をsuccess, failedでWidgetに表示\n",
    "    if results[0] == True:\n",
    "        result_widget.value = \"success\"\n",
    "    else:\n",
    "        result_widget.value = \"failed\""
   ]
  },
  {
   "cell_type": "markdown",
   "id": "c12234c2",
   "metadata": {},
   "source": [
    "# 顔認識ボタンの作成"
   ]
  },
  {
   "cell_type": "code",
   "execution_count": null,
   "id": "69ff44af",
   "metadata": {},
   "outputs": [],
   "source": [
    "recognision_button = ipywidgets.Button(description='Recognision face')\n",
    "recognision_button.on_click(lambda c: recognition_face())"
   ]
  },
  {
   "cell_type": "markdown",
   "id": "3895c4fe",
   "metadata": {},
   "source": [
    "# 結果表示Widgetの作成"
   ]
  },
  {
   "cell_type": "code",
   "execution_count": null,
   "id": "1ae5c370",
   "metadata": {},
   "outputs": [],
   "source": [
    "result_widget = ipywidgets.Text(description='result', value='')"
   ]
  },
  {
   "cell_type": "markdown",
   "id": "9dd8621c",
   "metadata": {},
   "source": [
    "# Widgetを画面に表示"
   ]
  },
  {
   "cell_type": "code",
   "execution_count": null,
   "id": "c743b6fd",
   "metadata": {},
   "outputs": [],
   "source": [
    "tool_widget = ipywidgets.VBox([\n",
    "    ipywidgets.HBox([\n",
    "        register_face_widget,\n",
    "        register_button,\n",
    "    ]),\n",
    "    ipywidgets.HBox([\n",
    "        image_widget,\n",
    "        recognision_button\n",
    "    ]),\n",
    "    result_widget\n",
    "])"
   ]
  },
  {
   "cell_type": "code",
   "execution_count": null,
   "id": "ec9f2df3",
   "metadata": {},
   "outputs": [],
   "source": [
    "display(tool_widget)"
   ]
  },
  {
   "cell_type": "markdown",
   "id": "db34403a",
   "metadata": {},
   "source": [
    "# カメラ等の終了処理"
   ]
  },
  {
   "cell_type": "code",
   "execution_count": null,
   "id": "8e6025bd",
   "metadata": {},
   "outputs": [],
   "source": [
    "import os\n",
    "os._exit(00)"
   ]
  }
 ],
 "metadata": {
  "kernelspec": {
   "display_name": "Python 3",
   "language": "python",
   "name": "python3"
  },
  "language_info": {
   "codemirror_mode": {
    "name": "ipython",
    "version": 3
   },
   "file_extension": ".py",
   "mimetype": "text/x-python",
   "name": "python",
   "nbconvert_exporter": "python",
   "pygments_lexer": "ipython3",
   "version": "3.6.9"
  }
 },
 "nbformat": 4,
 "nbformat_minor": 5
}
