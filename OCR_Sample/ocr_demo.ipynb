{
 "cells": [
  {
   "cell_type": "markdown",
   "metadata": {},
   "source": [
    "# PyOCRのインストール"
   ]
  },
  {
   "cell_type": "code",
   "execution_count": 21,
   "metadata": {},
   "outputs": [
    {
     "name": "stdout",
     "output_type": "stream",
     "text": [
      "Requirement already satisfied: pyocr in /usr/local/lib/python3.6/dist-packages\n",
      "Requirement already satisfied: Pillow in /usr/local/lib/python3.6/dist-packages/Pillow-8.0.1-py3.6-linux-aarch64.egg (from pyocr)\n"
     ]
    }
   ],
   "source": [
    "!pip3 install pyocr"
   ]
  },
  {
   "cell_type": "markdown",
   "metadata": {},
   "source": [
    "# tesseract-ocrのインストール"
   ]
  },
  {
   "cell_type": "code",
   "execution_count": 22,
   "metadata": {},
   "outputs": [
    {
     "name": "stdout",
     "output_type": "stream",
     "text": [
      "Reading package lists... Done\n",
      "Building dependency tree       \n",
      "Reading state information... Done\n",
      "tesseract-ocr is already the newest version (4.00~git2288-10f4998a-2).\n",
      "0 upgraded, 0 newly installed, 0 to remove and 102 not upgraded.\n"
     ]
    }
   ],
   "source": [
    "!apt-get install tesseract-ocr"
   ]
  },
  {
   "cell_type": "markdown",
   "metadata": {},
   "source": [
    "# tesseract-ocrのVersionを確認\n",
    "\n",
    "4.0.0-beta.1を前提に説明していきます"
   ]
  },
  {
   "cell_type": "code",
   "execution_count": 26,
   "metadata": {},
   "outputs": [
    {
     "name": "stdout",
     "output_type": "stream",
     "text": [
      "tesseract 4.0.0-beta.1\n",
      " leptonica-1.75.3\n",
      "  libgif 5.1.4 : libjpeg 8d (libjpeg-turbo 1.5.2) : libpng 1.6.34 : libtiff 4.0.9 : zlib 1.2.11 : libwebp 0.6.1 : libopenjp2 2.3.0\n",
      "\n"
     ]
    }
   ],
   "source": [
    "!tesseract -v"
   ]
  },
  {
   "cell_type": "markdown",
   "metadata": {},
   "source": [
    "# 学習済みモデルのダウンロード\n",
    "\n",
    "https://github.com/tesseract-ocr/tessdata/blob/4.0.0/ より4.0.0の学習済みモデルをダウンロード"
   ]
  },
  {
   "cell_type": "code",
   "execution_count": 27,
   "metadata": {},
   "outputs": [
    {
     "name": "stdout",
     "output_type": "stream",
     "text": [
      "--2021-08-27 04:56:56--  https://github.com/tesseract-ocr/tessdata/blob/4.0.0/jpn.traineddata?raw=true\n",
      "Resolving github.com (github.com)... 52.69.186.44\n",
      "Connecting to github.com (github.com)|52.69.186.44|:443... connected.\n",
      "HTTP request sent, awaiting response... 302 Found\n",
      "Location: https://github.com/tesseract-ocr/tessdata/raw/4.0.0/jpn.traineddata [following]\n",
      "--2021-08-27 04:56:56--  https://github.com/tesseract-ocr/tessdata/raw/4.0.0/jpn.traineddata\n",
      "Reusing existing connection to github.com:443.\n",
      "HTTP request sent, awaiting response... 302 Found\n",
      "Location: https://raw.githubusercontent.com/tesseract-ocr/tessdata/4.0.0/jpn.traineddata [following]\n",
      "--2021-08-27 04:56:57--  https://raw.githubusercontent.com/tesseract-ocr/tessdata/4.0.0/jpn.traineddata\n",
      "Resolving raw.githubusercontent.com (raw.githubusercontent.com)... 185.199.110.133, 185.199.111.133, 185.199.108.133, ...\n",
      "Connecting to raw.githubusercontent.com (raw.githubusercontent.com)|185.199.110.133|:443... connected.\n",
      "HTTP request sent, awaiting response... 200 OK\n",
      "Length: 35659159 (34M) [application/octet-stream]\n",
      "Saving to: 'jpn.traineddata'\n",
      "\n",
      "jpn.traineddata     100%[===================>]  34.01M  10.6MB/s    in 3.2s    \n",
      "\n",
      "2021-08-27 04:57:00 (10.6 MB/s) - 'jpn.traineddata' saved [35659159/35659159]\n",
      "\n"
     ]
    }
   ],
   "source": [
    "!wget https://github.com/tesseract-ocr/tessdata/blob/4.0.0/jpn.traineddata?raw=true -O jpn.traineddata"
   ]
  },
  {
   "cell_type": "markdown",
   "metadata": {},
   "source": [
    "# 指定フォルダにコピー\n",
    "\n",
    "/usr/share/tesseract-ocr/4.00/tessdata/ 以下にコピーします"
   ]
  },
  {
   "cell_type": "code",
   "execution_count": null,
   "metadata": {},
   "outputs": [],
   "source": [
    "!cp jpn.traineddata /usr/share/tesseract-ocr/4.00/tessdata/"
   ]
  },
  {
   "cell_type": "markdown",
   "metadata": {},
   "source": [
    "# PyOCRにtesseract-ocrを取り込み"
   ]
  },
  {
   "cell_type": "code",
   "execution_count": 1,
   "metadata": {},
   "outputs": [],
   "source": [
    "import os\n",
    "from PIL import Image\n",
    "import pyocr\n",
    "import pyocr.builders\n",
    "\n",
    "ocrs = pyocr.get_available_tools()\n",
    "ocr = ocrs[0]"
   ]
  },
  {
   "cell_type": "markdown",
   "metadata": {},
   "source": [
    "# Testデータで認識確認\n",
    "\n",
    "test1.png, test2.png, test3.png をつかってテストデータの認識が問題ないか確認します"
   ]
  },
  {
   "cell_type": "code",
   "execution_count": 2,
   "metadata": {},
   "outputs": [
    {
     "name": "stdout",
     "output_type": "stream",
     "text": [
      "あ い う え お\n"
     ]
    }
   ],
   "source": [
    "test_data = Image.open(\"test1.png\")\n",
    "builder = pyocr.builders.TextBuilder(tesseract_layout=3)\n",
    "result = ocr.image_to_string(test_data, lang=\"jpn\", builder=builder)\n",
    "\n",
    "print(result)"
   ]
  },
  {
   "cell_type": "markdown",
   "metadata": {},
   "source": [
    "# Videoカメラの認識確認\n",
    "\n",
    "下記コマンドでVideoカメラが認識できているか確認します"
   ]
  },
  {
   "cell_type": "code",
   "execution_count": 3,
   "metadata": {},
   "outputs": [
    {
     "name": "stdout",
     "output_type": "stream",
     "text": [
      "/dev/video0\n"
     ]
    }
   ],
   "source": [
    "!ls /dev/video0"
   ]
  },
  {
   "cell_type": "markdown",
   "metadata": {},
   "source": [
    "# Videoカメラの取り込み\n",
    "\n",
    "本サンプルではオートフォーカス対応のカメラが必要です。<br>\n",
    "奨励カメラ: Logicool C920n, Logicool C615n"
   ]
  },
  {
   "cell_type": "code",
   "execution_count": 4,
   "metadata": {},
   "outputs": [],
   "source": [
    "from jetcam.usb_camera import USBCamera\n",
    "\n",
    "#TODO change capture_device if incorrect for your system\n",
    "camera = USBCamera(width=640, height=480, capture_width=640, capture_height=480, capture_device=0)"
   ]
  },
  {
   "cell_type": "code",
   "execution_count": 5,
   "metadata": {},
   "outputs": [],
   "source": [
    "image = camera.read()"
   ]
  },
  {
   "cell_type": "markdown",
   "metadata": {},
   "source": [
    "# カメラ画像のNotebookへの表示"
   ]
  },
  {
   "cell_type": "code",
   "execution_count": 6,
   "metadata": {},
   "outputs": [
    {
     "data": {
      "application/vnd.jupyter.widget-view+json": {
       "model_id": "626a2a762954447494ea16edee79beb0",
       "version_major": 2,
       "version_minor": 0
      },
      "text/plain": [
       "Image(value=b'\\xff\\xd8\\xff\\xe0\\x00\\x10JFIF\\x00\\x01\\x01\\x00\\x00\\x01\\x00\\x01\\x00\\x00\\xff\\xdb\\x00C\\x00\\x02\\x01\\x0…"
      ]
     },
     "metadata": {},
     "output_type": "display_data"
    }
   ],
   "source": [
    "import ipywidgets\n",
    "from IPython.display import display\n",
    "from jetcam.utils import bgr8_to_jpeg\n",
    "\n",
    "image_widget = ipywidgets.Image(format='jpeg')\n",
    "\n",
    "image_widget.value = bgr8_to_jpeg(image)\n",
    "\n",
    "display(image_widget)"
   ]
  },
  {
   "cell_type": "markdown",
   "metadata": {},
   "source": [
    "# カメラ画像をUpdateする処理"
   ]
  },
  {
   "cell_type": "code",
   "execution_count": 14,
   "metadata": {},
   "outputs": [],
   "source": [
    "camera.running = True\n",
    "image = \"\"\n",
    "def update_image(change):\n",
    "    global image\n",
    "    image = change['new']\n",
    "    image_widget.value = bgr8_to_jpeg(image)"
   ]
  },
  {
   "cell_type": "markdown",
   "metadata": {},
   "source": [
    "# OCRボタンが押されたら呼び出される処理"
   ]
  },
  {
   "cell_type": "code",
   "execution_count": 18,
   "metadata": {},
   "outputs": [],
   "source": [
    "def run_ocr():\n",
    "    global image\n",
    "    print(\"start scanning:\")\n",
    "    ocr_image = Image.frombytes('RGB', (640,480), image)\n",
    "    builder = pyocr.builders.TextBuilder(tesseract_layout=3)\n",
    "    result = ocr.image_to_string(ocr_image , lang=\"jpn\", builder=builder)\n",
    "    print(\"result\")\n",
    "    print(\"------------------\")\n",
    "    print(result)\n",
    "    print(\"------------------\")"
   ]
  },
  {
   "cell_type": "markdown",
   "metadata": {},
   "source": [
    "# OCRボタンの処理"
   ]
  },
  {
   "cell_type": "code",
   "execution_count": 19,
   "metadata": {},
   "outputs": [],
   "source": [
    "ocr_button = ipywidgets.Button(description='ocr')\n",
    "ocr_button.on_click(lambda c: run_ocr())\n",
    "tool_widget = ipywidgets.VBox([\n",
    "    ocr_button\n",
    "])"
   ]
  },
  {
   "cell_type": "markdown",
   "metadata": {},
   "source": [
    "# 画像とOCRボタンを表示\n",
    "\n",
    "結果の表示は、JupyterLabのメニューの"
   ]
  },
  {
   "cell_type": "code",
   "execution_count": 20,
   "metadata": {},
   "outputs": [
    {
     "data": {
      "application/vnd.jupyter.widget-view+json": {
       "model_id": "6b94c8c0ee20430eb6d548ce3650f32b",
       "version_major": 2,
       "version_minor": 0
      },
      "text/plain": [
       "VBox(children=(Button(description='ocr', style=ButtonStyle()),))"
      ]
     },
     "metadata": {},
     "output_type": "display_data"
    },
    {
     "data": {
      "application/vnd.jupyter.widget-view+json": {
       "model_id": "626a2a762954447494ea16edee79beb0",
       "version_major": 2,
       "version_minor": 0
      },
      "text/plain": [
       "Image(value=b'\\xff\\xd8\\xff\\xe0\\x00\\x10JFIF\\x00\\x01\\x01\\x00\\x00\\x01\\x00\\x01\\x00\\x00\\xff\\xdb\\x00C\\x00\\x02\\x01\\x0…"
      ]
     },
     "metadata": {},
     "output_type": "display_data"
    }
   ],
   "source": [
    "display(tool_widget)\n",
    "display(image_widget)\n",
    "camera.observe(update_image, names='value')"
   ]
  },
  {
   "cell_type": "markdown",
   "metadata": {},
   "source": [
    "# 終了処理\n",
    "\n",
    "カメラの更新を停止"
   ]
  },
  {
   "cell_type": "code",
   "execution_count": 20,
   "metadata": {},
   "outputs": [],
   "source": [
    "camera.unobserve(update_image, names='value')"
   ]
  },
  {
   "cell_type": "markdown",
   "metadata": {},
   "source": [
    "# OSの初期化\n",
    "\n",
    "カメラも初期化されます"
   ]
  },
  {
   "cell_type": "code",
   "execution_count": null,
   "metadata": {},
   "outputs": [],
   "source": [
    "import os\n",
    "os._exit(00)"
   ]
  }
 ],
 "metadata": {
  "kernelspec": {
   "display_name": "Python 3",
   "language": "python",
   "name": "python3"
  },
  "language_info": {
   "codemirror_mode": {
    "name": "ipython",
    "version": 3
   },
   "file_extension": ".py",
   "mimetype": "text/x-python",
   "name": "python",
   "nbconvert_exporter": "python",
   "pygments_lexer": "ipython3",
   "version": "3.6.9"
  }
 },
 "nbformat": 4,
 "nbformat_minor": 4
}
